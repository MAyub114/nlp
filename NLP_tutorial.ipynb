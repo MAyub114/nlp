{
 "cells": [
  {
   "cell_type": "markdown",
   "metadata": {},
   "source": [
    "# NLP tutorials"
   ]
  },
  {
   "cell_type": "code",
   "execution_count": 27,
   "metadata": {},
   "outputs": [
    {
     "name": "stderr",
     "output_type": "stream",
     "text": [
      "[nltk_data] Downloading package stopwords to\n",
      "[nltk_data]     C:\\Users\\Ayub\\AppData\\Roaming\\nltk_data...\n",
      "[nltk_data]   Package stopwords is already up-to-date!\n",
      "[nltk_data] Downloading package punkt to\n",
      "[nltk_data]     C:\\Users\\Ayub\\AppData\\Roaming\\nltk_data...\n",
      "[nltk_data]   Package punkt is already up-to-date!\n",
      "[nltk_data] Downloading package wordnet to\n",
      "[nltk_data]     C:\\Users\\Ayub\\AppData\\Roaming\\nltk_data...\n",
      "[nltk_data]   Package wordnet is already up-to-date!\n",
      "[nltk_data] Downloading package omw-1.4 to\n",
      "[nltk_data]     C:\\Users\\Ayub\\AppData\\Roaming\\nltk_data...\n",
      "[nltk_data]   Package omw-1.4 is already up-to-date!\n"
     ]
    }
   ],
   "source": [
    "# Core libraries\n",
    "import numpy as np\n",
    "import pandas as pd\n",
    "\n",
    "# String handling\n",
    "import string\n",
    "import re\n",
    "\n",
    "# ML\n",
    "import sklearn\n",
    "from sklearn.feature_extraction.text import CountVectorizer, TfidfVectorizer\n",
    "\n",
    "\n",
    "# NLP libraries\n",
    "import nltk\n",
    "from nltk.corpus import stopwords\n",
    "from nltk.tokenize import word_tokenize\n",
    "from nltk.stem import PorterStemmer\n",
    "nltk.download('stopwords')\n",
    "nltk.download ('punkt')\n",
    "nltk.download('wordnet')\n",
    "nltk.download('omw-1.4')\n",
    "from textblob import TextBlob, Word\n",
    "from wordcloud import WordCloud\n",
    "from wordcloud import STOPWORDS\n",
    "\n",
    "# Data visualization\n",
    "import matplotlib.pyplot as plt"
   ]
  },
  {
   "cell_type": "markdown",
   "metadata": {},
   "source": [
    "## Load data"
   ]
  },
  {
   "cell_type": "code",
   "execution_count": 2,
   "metadata": {},
   "outputs": [],
   "source": [
    "text = [\n",
    "    \"This is the NLP TASKS ARTICLE written by AYuB kHaN **\",\n",
    "    \"IN this article I”ll be explaining various DATA-CLEANING techniques\",\n",
    "    \"So stay tuned for FURther More &&\",\n",
    "    \"Nah I don't think he goes to usf, he lives around\"\n",
    "    ]\n",
    "\n",
    "# Convert to DataFrame\n",
    "df = pd.DataFrame({'original_text':text})"
   ]
  },
  {
   "cell_type": "markdown",
   "metadata": {},
   "source": [
    "## 1. Data cleaning\n",
    "\n",
    "### Convert to lowercase"
   ]
  },
  {
   "cell_type": "code",
   "execution_count": 3,
   "metadata": {},
   "outputs": [],
   "source": [
    "df['processed'] = df['original_text'].apply(lambda x: \" \".join(x.lower()  for x in x.split()))"
   ]
  },
  {
   "cell_type": "markdown",
   "metadata": {},
   "source": [
    "### Remove punctuation"
   ]
  },
  {
   "cell_type": "code",
   "execution_count": 4,
   "metadata": {},
   "outputs": [],
   "source": [
    "df['processed'] = df['processed'].apply(lambda x: \"\".join(i for i in x if i not in string.punctuation))"
   ]
  },
  {
   "cell_type": "code",
   "execution_count": 5,
   "metadata": {},
   "outputs": [],
   "source": [
    "# Alternative method using regex\n",
    "# df['processed'] = df['processed'].apply(lambda x:''.join(re.findall(r'[a-zA-Z+\" \"]', x)))"
   ]
  },
  {
   "cell_type": "markdown",
   "metadata": {},
   "source": [
    "### Remove stop words"
   ]
  },
  {
   "cell_type": "code",
   "execution_count": 6,
   "metadata": {},
   "outputs": [],
   "source": [
    "allstopwords = stopwords.words('english')\n",
    "df['processed'] = df['processed'].apply(lambda x: \" \".join(i for i in x.split() if i not in allstopwords))"
   ]
  },
  {
   "cell_type": "markdown",
   "metadata": {},
   "source": [
    "### Spelling correction"
   ]
  },
  {
   "cell_type": "code",
   "execution_count": 7,
   "metadata": {},
   "outputs": [],
   "source": [
    "df['processed'] = df['processed'].apply(lambda x: str(TextBlob(x).correct()))"
   ]
  },
  {
   "cell_type": "markdown",
   "metadata": {},
   "source": [
    "### Tokenization\n",
    "\n",
    "* Split text into meaningful unit words"
   ]
  },
  {
   "cell_type": "code",
   "execution_count": 8,
   "metadata": {},
   "outputs": [
    {
     "data": {
      "text/plain": [
       "['My', 'favorite', 'animal', 'is', 'cat']"
      ]
     },
     "execution_count": 8,
     "metadata": {},
     "output_type": "execute_result"
    }
   ],
   "source": [
    "mystring = \"My favorite animal is cat\" \n",
    "word_tokenize(mystring)\n",
    "mystring.split(\" \")"
   ]
  },
  {
   "cell_type": "markdown",
   "metadata": {},
   "source": [
    "### Stemming\n",
    "\n",
    "* Convert words into their root word using a set of rules\n",
    "* The root word may be truncated form of the original\n",
    "* Root words generated may not have meaning"
   ]
  },
  {
   "cell_type": "code",
   "execution_count": 9,
   "metadata": {},
   "outputs": [],
   "source": [
    "st = PorterStemmer()\n",
    "df['stemmed'] = df['processed'].apply(lambda x:\" \".join([st.stem(word) for word in x.split()]))"
   ]
  },
  {
   "cell_type": "markdown",
   "metadata": {},
   "source": [
    "### Lemmatization\n",
    "\n",
    "* Convert words into their root word using vocabulary mapping\n",
    "* Root words generated are themselves words and have meaning\n",
    "* Slower than stemming"
   ]
  },
  {
   "cell_type": "code",
   "execution_count": 10,
   "metadata": {},
   "outputs": [
    {
     "name": "stdout",
     "output_type": "stream",
     "text": [
      "Lemmatization of 'played'  ---> 'play'\n"
     ]
    }
   ],
   "source": [
    "# Single word example\n",
    "w = Word(\"played\")\n",
    "\n",
    "# Pass in WordNet part of speech (verb)\n",
    "wl = w.lemmatize(\"v\")  \n",
    "\n",
    "# Lemmatized version\n",
    "print(f\"Lemmatization of '{w}'  ---> '{wl}'\")"
   ]
  },
  {
   "cell_type": "code",
   "execution_count": 11,
   "metadata": {},
   "outputs": [],
   "source": [
    "# Lemmatization of dataset\n",
    "df['lemmatized'] = df['processed'].apply(lambda x:\" \".join([Word(word).lemmatize() for word in x.split()]))"
   ]
  },
  {
   "cell_type": "code",
   "execution_count": 12,
   "metadata": {},
   "outputs": [
    {
     "data": {
      "text/html": [
       "<div>\n",
       "<style scoped>\n",
       "    .dataframe tbody tr th:only-of-type {\n",
       "        vertical-align: middle;\n",
       "    }\n",
       "\n",
       "    .dataframe tbody tr th {\n",
       "        vertical-align: top;\n",
       "    }\n",
       "\n",
       "    .dataframe thead th {\n",
       "        text-align: right;\n",
       "    }\n",
       "</style>\n",
       "<table border=\"1\" class=\"dataframe\">\n",
       "  <thead>\n",
       "    <tr style=\"text-align: right;\">\n",
       "      <th></th>\n",
       "      <th>original_text</th>\n",
       "      <th>processed</th>\n",
       "      <th>stemmed</th>\n",
       "      <th>lemmatized</th>\n",
       "    </tr>\n",
       "  </thead>\n",
       "  <tbody>\n",
       "    <tr>\n",
       "      <th>0</th>\n",
       "      <td>This is the NLP TASKS ARTICLE written by AYuB ...</td>\n",
       "      <td>nap tasks article written club khan</td>\n",
       "      <td>nap task articl written club khan</td>\n",
       "      <td>nap task article written club khan</td>\n",
       "    </tr>\n",
       "    <tr>\n",
       "      <th>1</th>\n",
       "      <td>IN this article I”ll be explaining various DAT...</td>\n",
       "      <td>article i”ll explaining various datacleaning t...</td>\n",
       "      <td>articl i”ll explain variou dataclean techniqu</td>\n",
       "      <td>article i”ll explaining various datacleaning t...</td>\n",
       "    </tr>\n",
       "    <tr>\n",
       "      <th>2</th>\n",
       "      <td>So stay tuned for FURther More &amp;&amp;</td>\n",
       "      <td>stay tuned</td>\n",
       "      <td>stay tune</td>\n",
       "      <td>stay tuned</td>\n",
       "    </tr>\n",
       "    <tr>\n",
       "      <th>3</th>\n",
       "      <td>Nah I don't think he goes to usf, he lives around</td>\n",
       "      <td>ah dont think goes us lives around</td>\n",
       "      <td>ah dont think goe us live around</td>\n",
       "      <td>ah dont think go u life around</td>\n",
       "    </tr>\n",
       "  </tbody>\n",
       "</table>\n",
       "</div>"
      ],
      "text/plain": [
       "                                       original_text  \\\n",
       "0  This is the NLP TASKS ARTICLE written by AYuB ...   \n",
       "1  IN this article I”ll be explaining various DAT...   \n",
       "2                  So stay tuned for FURther More &&   \n",
       "3  Nah I don't think he goes to usf, he lives around   \n",
       "\n",
       "                                           processed  \\\n",
       "0                nap tasks article written club khan   \n",
       "1  article i”ll explaining various datacleaning t...   \n",
       "2                                         stay tuned   \n",
       "3                 ah dont think goes us lives around   \n",
       "\n",
       "                                         stemmed  \\\n",
       "0              nap task articl written club khan   \n",
       "1  articl i”ll explain variou dataclean techniqu   \n",
       "2                                      stay tune   \n",
       "3               ah dont think goe us live around   \n",
       "\n",
       "                                          lemmatized  \n",
       "0                 nap task article written club khan  \n",
       "1  article i”ll explaining various datacleaning t...  \n",
       "2                                         stay tuned  \n",
       "3                     ah dont think go u life around  "
      ]
     },
     "execution_count": 12,
     "metadata": {},
     "output_type": "execute_result"
    }
   ],
   "source": [
    "df.head()"
   ]
  },
  {
   "cell_type": "markdown",
   "metadata": {},
   "source": [
    "## 2. Exploratory Data Analysis\n",
    "\n",
    "### Word frequency"
   ]
  },
  {
   "cell_type": "code",
   "execution_count": 13,
   "metadata": {},
   "outputs": [],
   "source": [
    "# Stores all words (vocabulary) from our dataset\n",
    "all_words = []\n",
    "for sentence in df['processed']:\n",
    "    all_words.extend(sentence.split())"
   ]
  },
  {
   "cell_type": "code",
   "execution_count": 14,
   "metadata": {},
   "outputs": [
    {
     "data": {
      "text/plain": [
       "['nap',\n",
       " 'tasks',\n",
       " 'article',\n",
       " 'written',\n",
       " 'club',\n",
       " 'khan',\n",
       " 'article',\n",
       " 'i”ll',\n",
       " 'explaining',\n",
       " 'various',\n",
       " 'datacleaning',\n",
       " 'technique',\n",
       " 'stay',\n",
       " 'tuned',\n",
       " 'ah',\n",
       " 'dont',\n",
       " 'think',\n",
       " 'goes',\n",
       " 'us',\n",
       " 'lives',\n",
       " 'around']"
      ]
     },
     "execution_count": 14,
     "metadata": {},
     "output_type": "execute_result"
    }
   ],
   "source": [
    "all_words"
   ]
  },
  {
   "cell_type": "code",
   "execution_count": 15,
   "metadata": {},
   "outputs": [
    {
     "data": {
      "text/plain": [
       "FreqDist({'article': 2, 'nap': 1, 'tasks': 1, 'written': 1, 'club': 1, 'khan': 1, 'i”ll': 1, 'explaining': 1, 'various': 1, 'datacleaning': 1, ...})"
      ]
     },
     "execution_count": 15,
     "metadata": {},
     "output_type": "execute_result"
    }
   ],
   "source": [
    "nltk.FreqDist(all_words)"
   ]
  },
  {
   "cell_type": "markdown",
   "metadata": {},
   "source": [
    "### Word Cloud"
   ]
  },
  {
   "cell_type": "code",
   "execution_count": 16,
   "metadata": {},
   "outputs": [
    {
     "data": {
      "text/plain": [
       "<matplotlib.image.AxesImage at 0x1c2e1ac12b0>"
      ]
     },
     "execution_count": 16,
     "metadata": {},
     "output_type": "execute_result"
    },
    {
     "data": {
      "image/png": "[encoded data removed]",
      "text/plain": [
       "<Figure size 432x288 with 1 Axes>"
      ]
     },
     "metadata": {
      "needs_background": "light"
     },
     "output_type": "display_data"
    }
   ],
   "source": [
    "words = []\n",
    "for message in df['processed']:\n",
    "    words.extend([word for word in message.split() if word not in STOPWORDS])\n",
    "        \n",
    "wordcloud = WordCloud(width = 1000, height = 500).generate(\" \".join(words))\n",
    "plt.imshow(wordcloud, interpolation='bilinear')"
   ]
  },
  {
   "cell_type": "markdown",
   "metadata": {},
   "source": [
    "## 3. Feature extraction\n",
    "\n",
    "* For our ML model to work, we need to convert words into numbers.\n",
    "* This is known as feature extraction.\n",
    "* the most popular methods of feature extraction are:\n",
    "  * Bag of Words (BOW) model.\n",
    "  * Term frequency-inverse document frequency (TF-IDF) model.\n",
    "\n",
    "### Bag of Words (BOW)\n",
    "\n",
    "* Treats a sentence as a bag of words.\n",
    "* Counts the frequency of each word in the sentence.\n",
    "* BOW does not care about the order of words.\n",
    "* Feature vector has the same word length.\n",
    "* Model is biased since frequent words receive higher weight.\n",
    "* sklearn implementation:\n",
    "  * fit_transform(). Learns vocabulary dictionary (fitting to CountVectorizer) and returns document-term matrix.\n",
    "  * get_feature_names_out(). Get output feature names for transformation."
   ]
  },
  {
   "cell_type": "code",
   "execution_count": 17,
   "metadata": {},
   "outputs": [
    {
     "data": {
      "text/html": [
       "<div>\n",
       "<style scoped>\n",
       "    .dataframe tbody tr th:only-of-type {\n",
       "        vertical-align: middle;\n",
       "    }\n",
       "\n",
       "    .dataframe tbody tr th {\n",
       "        vertical-align: top;\n",
       "    }\n",
       "\n",
       "    .dataframe thead th {\n",
       "        text-align: right;\n",
       "    }\n",
       "</style>\n",
       "<table border=\"1\" class=\"dataframe\">\n",
       "  <thead>\n",
       "    <tr style=\"text-align: right;\">\n",
       "      <th></th>\n",
       "      <th>future</th>\n",
       "      <th>in</th>\n",
       "      <th>is</th>\n",
       "      <th>learn</th>\n",
       "      <th>love</th>\n",
       "      <th>months</th>\n",
       "      <th>nlp</th>\n",
       "      <th>will</th>\n",
       "    </tr>\n",
       "  </thead>\n",
       "  <tbody>\n",
       "    <tr>\n",
       "      <th>0</th>\n",
       "      <td>0</td>\n",
       "      <td>0</td>\n",
       "      <td>0</td>\n",
       "      <td>0</td>\n",
       "      <td>1</td>\n",
       "      <td>0</td>\n",
       "      <td>1</td>\n",
       "      <td>0</td>\n",
       "    </tr>\n",
       "    <tr>\n",
       "      <th>1</th>\n",
       "      <td>1</td>\n",
       "      <td>0</td>\n",
       "      <td>1</td>\n",
       "      <td>0</td>\n",
       "      <td>0</td>\n",
       "      <td>0</td>\n",
       "      <td>1</td>\n",
       "      <td>0</td>\n",
       "    </tr>\n",
       "    <tr>\n",
       "      <th>2</th>\n",
       "      <td>0</td>\n",
       "      <td>1</td>\n",
       "      <td>0</td>\n",
       "      <td>1</td>\n",
       "      <td>0</td>\n",
       "      <td>1</td>\n",
       "      <td>0</td>\n",
       "      <td>1</td>\n",
       "    </tr>\n",
       "  </tbody>\n",
       "</table>\n",
       "</div>"
      ],
      "text/plain": [
       "   future  in  is  learn  love  months  nlp  will\n",
       "0       0   0   0      0     1       0    1     0\n",
       "1       1   0   1      0     0       0    1     0\n",
       "2       0   1   0      1     0       1    0     1"
      ]
     },
     "execution_count": 17,
     "metadata": {},
     "output_type": "execute_result"
    }
   ],
   "source": [
    "text = [\"i love NLP\",\n",
    "        \"NLP is future\",\n",
    "        \"i will learn in 2 months\"]\n",
    "\n",
    "vectorizer = CountVectorizer()\n",
    "count_matrix = vectorizer.fit_transform(text) \n",
    "count_array = count_matrix.toarray()\n",
    "\n",
    "df = pd.DataFrame(data=count_array, columns=vectorizer.get_feature_names_out())\n",
    "df"
   ]
  },
  {
   "cell_type": "markdown",
   "metadata": {},
   "source": [
    "#### BOW with n-grams\n",
    "\n",
    "* N-grams are continous sequences of words / symbols / tokens in a document\n",
    "* We implement n-grams using the parameter ngram_range within CountVectorizer()\n",
    "  * ngram_range = (1, 1). Only use unigrams.\n",
    "  * ngram_range = (1, 2). Use unigrams and bigrams.\n",
    "  * ngram_range = (2, 2). Only use bigrams."
   ]
  },
  {
   "cell_type": "code",
   "execution_count": 19,
   "metadata": {},
   "outputs": [
    {
     "data": {
      "text/html": [
       "<div>\n",
       "<style scoped>\n",
       "    .dataframe tbody tr th:only-of-type {\n",
       "        vertical-align: middle;\n",
       "    }\n",
       "\n",
       "    .dataframe tbody tr th {\n",
       "        vertical-align: top;\n",
       "    }\n",
       "\n",
       "    .dataframe thead th {\n",
       "        text-align: right;\n",
       "    }\n",
       "</style>\n",
       "<table border=\"1\" class=\"dataframe\">\n",
       "  <thead>\n",
       "    <tr style=\"text-align: right;\">\n",
       "      <th></th>\n",
       "      <th>bad</th>\n",
       "      <th>food</th>\n",
       "      <th>food was</th>\n",
       "      <th>not</th>\n",
       "      <th>not bad</th>\n",
       "      <th>was</th>\n",
       "      <th>was not</th>\n",
       "    </tr>\n",
       "  </thead>\n",
       "  <tbody>\n",
       "    <tr>\n",
       "      <th>0</th>\n",
       "      <td>1</td>\n",
       "      <td>1</td>\n",
       "      <td>1</td>\n",
       "      <td>1</td>\n",
       "      <td>1</td>\n",
       "      <td>1</td>\n",
       "      <td>1</td>\n",
       "    </tr>\n",
       "  </tbody>\n",
       "</table>\n",
       "</div>"
      ],
      "text/plain": [
       "   bad  food  food was  not  not bad  was  was not\n",
       "0    1     1         1    1        1    1        1"
      ]
     },
     "execution_count": 19,
     "metadata": {},
     "output_type": "execute_result"
    }
   ],
   "source": [
    "text = [\"food was not bad\"]\n",
    "\n",
    "vectorizer = CountVectorizer(ngram_range=(1,2))  # unigrams and bigrams\n",
    "count_matrix = vectorizer.fit_transform(text)\n",
    "count_array = count_matrix.toarray()\n",
    "\n",
    "df = pd.DataFrame(data=count_array, columns=vectorizer.get_feature_names_out())\n",
    "df"
   ]
  },
  {
   "cell_type": "markdown",
   "metadata": {},
   "source": [
    "### Term frequency-inverse document frequency (TF-IDF)\n",
    "\n",
    "* Bag of Words is unordered. Words with high frequency are assigned higher weightage but the word may appear in multiple documents.\n",
    "* TF-IDF normalizes words that occur frequently in a collection of documents.\n",
    "* TF-IDF therefore places emphasis on words in relation to its document or sentence.\n",
    "* Term frequency (TF). Number of times a term has appeared in a document. Measure of how frequently a word is in a given sentence.\n",
    "* Inverse document frequency (IDF). Measure of how rare a word is in a document.\n",
    "* If a word appears in almost every document, it is not significant for the classification\n",
    "* IDF of a word is log(N / n)\n",
    "  * N = total number of documents\n",
    "  * n = Number of documents containing a term "
   ]
  },
  {
   "cell_type": "code",
   "execution_count": 22,
   "metadata": {},
   "outputs": [
    {
     "data": {
      "text/html": [
       "<div>\n",
       "<style scoped>\n",
       "    .dataframe tbody tr th:only-of-type {\n",
       "        vertical-align: middle;\n",
       "    }\n",
       "\n",
       "    .dataframe tbody tr th {\n",
       "        vertical-align: top;\n",
       "    }\n",
       "\n",
       "    .dataframe thead th {\n",
       "        text-align: right;\n",
       "    }\n",
       "</style>\n",
       "<table border=\"1\" class=\"dataframe\">\n",
       "  <thead>\n",
       "    <tr style=\"text-align: right;\">\n",
       "      <th></th>\n",
       "      <th>future</th>\n",
       "      <th>is</th>\n",
       "      <th>learn</th>\n",
       "      <th>love</th>\n",
       "      <th>nlp</th>\n",
       "      <th>the</th>\n",
       "      <th>will</th>\n",
       "    </tr>\n",
       "  </thead>\n",
       "  <tbody>\n",
       "    <tr>\n",
       "      <th>0</th>\n",
       "      <td>0.000000</td>\n",
       "      <td>0.000000</td>\n",
       "      <td>0.000000</td>\n",
       "      <td>0.767495</td>\n",
       "      <td>0.453295</td>\n",
       "      <td>0.453295</td>\n",
       "      <td>0.000000</td>\n",
       "    </tr>\n",
       "    <tr>\n",
       "      <th>1</th>\n",
       "      <td>0.608845</td>\n",
       "      <td>0.608845</td>\n",
       "      <td>0.000000</td>\n",
       "      <td>0.000000</td>\n",
       "      <td>0.359594</td>\n",
       "      <td>0.359594</td>\n",
       "      <td>0.000000</td>\n",
       "    </tr>\n",
       "    <tr>\n",
       "      <th>2</th>\n",
       "      <td>0.000000</td>\n",
       "      <td>0.000000</td>\n",
       "      <td>0.608845</td>\n",
       "      <td>0.000000</td>\n",
       "      <td>0.359594</td>\n",
       "      <td>0.359594</td>\n",
       "      <td>0.608845</td>\n",
       "    </tr>\n",
       "  </tbody>\n",
       "</table>\n",
       "</div>"
      ],
      "text/plain": [
       "     future        is     learn      love       nlp       the      will\n",
       "0  0.000000  0.000000  0.000000  0.767495  0.453295  0.453295  0.000000\n",
       "1  0.608845  0.608845  0.000000  0.000000  0.359594  0.359594  0.000000\n",
       "2  0.000000  0.000000  0.608845  0.000000  0.359594  0.359594  0.608845"
      ]
     },
     "execution_count": 22,
     "metadata": {},
     "output_type": "execute_result"
    }
   ],
   "source": [
    "text = [\"i love the NLP\",\n",
    "        \"NLP is the future\",\n",
    "        \"i will learn the NLP\"]\n",
    "\n",
    "vectorizer = TfidfVectorizer()\n",
    "matrix = vectorizer.fit_transform(text)\n",
    "count_array = matrix.toarray()\n",
    "\n",
    "df = pd.DataFrame(data=count_array,columns = vectorizer.get_feature_names_out())\n",
    "df"
   ]
  },
  {
   "cell_type": "markdown",
   "metadata": {},
   "source": [
    "* The words \"nlp\" and \"the\" appear in all 3 documents. Their scores are lowered.\n",
    "* Words that occur in one document like \"future\" and \"love\" have higher scores."
   ]
  },
  {
   "cell_type": "markdown",
   "metadata": {},
   "source": [
    "## 4. Word embedding\n",
    "\n",
    "* Both BOW and TF-IDF only consider term frequency.\n",
    "* The meaning of words is not considered.\n",
    "* For large text corpus, this results in very large numbers of tokens and high dimensionality.\n",
    "* Word embeddings map words to vectors.\n",
    "* Mappings were trained on a shallow NN using 6 billion words.\n",
    "* Similar words map to the same feature vector.\n",
    "* Reduces the data dimension.\n",
    "* Two algorithms for word embedding:\n",
    "  * CBOW.\n",
    "  * Skip-Gram."
   ]
  },
  {
   "cell_type": "code",
   "execution_count": 28,
   "metadata": {},
   "outputs": [],
   "source": [
    "glove_vectors = dict()\n",
    "\n",
    "# Load pre-trained 100 dimension word vector file\n",
    "file = open('glove.6B.100d.txt', encoding='utf-8')\n",
    "for line in file:\n",
    "    values = line.split()\n",
    "    word = values[0]\n",
    "    vectors = np.asarray(values[1:])\n",
    "    glove_vectors[word] = vectors\n",
    "file.close()"
   ]
  },
  {
   "cell_type": "code",
   "execution_count": 30,
   "metadata": {},
   "outputs": [
    {
     "data": {
      "text/plain": [
       "array(['-0.18867', '-0.040943', '0.58878', '0.11062', '0.14236', '0.4885',\n",
       "       '-0.31832', '0.53819', '-0.018549', '0.029687', '0.30299',\n",
       "       '-0.16522', '-0.18896', '0.5148', '-0.79405', '0.26409',\n",
       "       '0.027747', '0.041163', '-0.49378', '-0.14263', '0.29017',\n",
       "       '-0.25369', '0.70559', '-1.0501', '-0.49344', '-0.37148',\n",
       "       '-0.85796', '-0.55158', '-0.60251', '-0.0099676', '0.8725',\n",
       "       '0.12149', '0.551', '0.49924', '-0.3088', '1.1067', '-0.15494',\n",
       "       '-0.29923', '0.91149', '0.19859', '-0.73946', '-1.0182', '0.37208',\n",
       "       '-0.10043', '0.13537', '-0.52687', '-0.60437', '-0.15906',\n",
       "       '0.49283', '-0.61386', '0.046815', '-0.88806', '0.60229',\n",
       "       '0.72199', '-0.4316', '-3.0706', '-0.11233', '-0.45713', '0.95737',\n",
       "       '0.59174', '-0.17124', '0.65746', '0.44741', '0.6101', '1.0216',\n",
       "       '-0.2458', '0.90191', '0.78319', '0.28272', '-0.4539', '0.16309',\n",
       "       '-0.0078932', '-0.27714', '-0.87249', '-0.19716', '-0.076285',\n",
       "       '-0.28422', '-0.089584', '-1.3132', '0.16372', '-0.25441',\n",
       "       '-0.076529', '0.44458', '-0.17525', '-0.74084', '-0.25415',\n",
       "       '0.52886', '-0.46958', '0.16487', '-0.57443', '0.47239',\n",
       "       '-0.52798', '0.65184', '0.803', '-0.93156', '-0.055967', '0.26932',\n",
       "       '0.16221', '1.1238', '-0.4168'], dtype='<U10')"
      ]
     },
     "execution_count": 30,
     "metadata": {},
     "output_type": "execute_result"
    }
   ],
   "source": [
    "glove_vectors.get('house')"
   ]
  }
 ],
 "metadata": {
  "kernelspec": {
   "display_name": "Python 3.8.13 ('py38_nlp')",
   "language": "python",
   "name": "python3"
  },
  "language_info": {
   "codemirror_mode": {
    "name": "ipython",
    "version": 3
   },
   "file_extension": ".py",
   "mimetype": "text/x-python",
   "name": "python",
   "nbconvert_exporter": "python",
   "pygments_lexer": "ipython3",
   "version": "3.8.13"
  },
  "orig_nbformat": 4,
  "vscode": {
   "interpreter": {
    "hash": "4d71e08b94de827530a4ff8127ee1f68f1c262136c34d25d2205ffeb4e79a510"
   }
  }
 },
 "nbformat": 4,
 "nbformat_minor": 2
}
