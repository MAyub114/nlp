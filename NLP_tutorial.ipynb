{
 "cells": [
  {
   "cell_type": "markdown",
   "metadata": {},
   "source": [
    "# NLP tutorials"
   ]
  },
  {
   "cell_type": "code",
   "execution_count": 13,
   "metadata": {},
   "outputs": [
    {
     "name": "stderr",
     "output_type": "stream",
     "text": [
      "[nltk_data] Downloading package stopwords to\n",
      "[nltk_data]     C:\\Users\\Ayub\\AppData\\Roaming\\nltk_data...\n",
      "[nltk_data]   Package stopwords is already up-to-date!\n",
      "[nltk_data] Downloading package punkt to\n",
      "[nltk_data]     C:\\Users\\Ayub\\AppData\\Roaming\\nltk_data...\n",
      "[nltk_data]   Package punkt is already up-to-date!\n",
      "[nltk_data] Downloading package wordnet to\n",
      "[nltk_data]     C:\\Users\\Ayub\\AppData\\Roaming\\nltk_data...\n",
      "[nltk_data]   Package wordnet is already up-to-date!\n",
      "[nltk_data] Downloading package omw-1.4 to\n",
      "[nltk_data]     C:\\Users\\Ayub\\AppData\\Roaming\\nltk_data...\n"
     ]
    }
   ],
   "source": [
    "# Core libraries\n",
    "import pandas as pd\n",
    "\n",
    "# String handling\n",
    "import string\n",
    "import re\n",
    "\n",
    "# NLP libraries\n",
    "import nltk\n",
    "from nltk.corpus import stopwords\n",
    "from nltk.tokenize import word_tokenize\n",
    "from nltk.stem import PorterStemmer\n",
    "nltk.download('stopwords')\n",
    "nltk.download ('punkt')\n",
    "nltk.download('wordnet')\n",
    "nltk.download('omw-1.4')\n",
    "from textblob import TextBlob, Word"
   ]
  },
  {
   "cell_type": "markdown",
   "metadata": {},
   "source": [
    "## Raw text"
   ]
  },
  {
   "cell_type": "code",
   "execution_count": 2,
   "metadata": {},
   "outputs": [],
   "source": [
    "text = [\n",
    "    \"This is the NLP TASKS ARTICLE written by AYuB kHaN **\",\n",
    "    \"IN this article I”ll be explaining various DATA-CLEANING techniques\",\n",
    "    \"So stay tuned for FURther More &&\",\n",
    "    \"Nah I don't think he goes to usf, he lives around\"\n",
    "    ]\n",
    "\n",
    "# Convert to DataFrame\n",
    "df = pd.DataFrame({'text':text})"
   ]
  },
  {
   "cell_type": "markdown",
   "metadata": {},
   "source": [
    "## Data cleaning"
   ]
  },
  {
   "cell_type": "code",
   "execution_count": 3,
   "metadata": {},
   "outputs": [],
   "source": [
    "# Convert to lowercase \n",
    "df['lower'] = df['text'].apply(lambda x: \" \".join(x.lower()  for x in x.split()))"
   ]
  },
  {
   "cell_type": "code",
   "execution_count": 4,
   "metadata": {},
   "outputs": [
    {
     "data": {
      "text/plain": [
       "0    This is the NLP TASKS ARTICLE written by AYuB ...\n",
       "1    IN this article I”ll be explaining various DAT...\n",
       "2                      So stay tuned for FURther More \n",
       "3      Nah I dont think he goes to usf he lives around\n",
       "Name: text, dtype: object"
      ]
     },
     "execution_count": 4,
     "metadata": {},
     "output_type": "execute_result"
    }
   ],
   "source": [
    "# Remove punctuation\n",
    "df.text.apply(lambda x: \"\".join(i for i in x if i not in string.punctuation))"
   ]
  },
  {
   "cell_type": "code",
   "execution_count": 5,
   "metadata": {},
   "outputs": [
    {
     "data": {
      "text/plain": [
       "0    This is the NLP TASKS ARTICLE written by AYuB ...\n",
       "1    IN this article Ill be explaining various DATA...\n",
       "2                      So stay tuned for FURther More \n",
       "3      Nah I dont think he goes to usf he lives around\n",
       "Name: text, dtype: object"
      ]
     },
     "execution_count": 5,
     "metadata": {},
     "output_type": "execute_result"
    }
   ],
   "source": [
    "df.text.apply(lambda x:''.join(re.findall(r'[a-zA-Z+\" \"]', x)))"
   ]
  },
  {
   "cell_type": "code",
   "execution_count": 6,
   "metadata": {},
   "outputs": [
    {
     "data": {
      "text/plain": [
       "0               nlp tasks article written ayub khan **\n",
       "1    article i”ll explaining various data-cleaning ...\n",
       "2                                        stay tuned &&\n",
       "3                     nah think goes usf, lives around\n",
       "Name: lower, dtype: object"
      ]
     },
     "execution_count": 6,
     "metadata": {},
     "output_type": "execute_result"
    }
   ],
   "source": [
    "# Remove stop words\n",
    "allstopwords = stopwords.words('english')\n",
    "df.lower.apply(lambda x: \" \".join(i for i in x.split() if i not in allstopwords))"
   ]
  },
  {
   "cell_type": "code",
   "execution_count": 7,
   "metadata": {},
   "outputs": [
    {
     "data": {
      "text/plain": [
       "0    this is the nap tasks article written by club ...\n",
       "1    in this article i”ll be explaining various dat...\n",
       "2                    so stay tuned for further more &&\n",
       "3      ah i don't think he goes to us, he lives around\n",
       "Name: lower, dtype: object"
      ]
     },
     "execution_count": 7,
     "metadata": {},
     "output_type": "execute_result"
    }
   ],
   "source": [
    "# Spelling correction\n",
    "df['lower'].apply(lambda x: str(TextBlob(x).correct()))"
   ]
  },
  {
   "cell_type": "markdown",
   "metadata": {},
   "source": [
    "## Tokenization\n",
    "\n",
    "* Split text into meaningful unit words"
   ]
  },
  {
   "cell_type": "code",
   "execution_count": 8,
   "metadata": {},
   "outputs": [
    {
     "data": {
      "text/plain": [
       "['My', 'favorite', 'animal', 'is', 'cat']"
      ]
     },
     "execution_count": 8,
     "metadata": {},
     "output_type": "execute_result"
    }
   ],
   "source": [
    "mystring = \"My favorite animal is cat\" \n",
    "word_tokenize(mystring)\n",
    "mystring.split(\" \")"
   ]
  },
  {
   "cell_type": "markdown",
   "metadata": {},
   "source": [
    "## Stemming\n",
    "\n",
    "* Convert words into their root word using a set of rules\n",
    "* The root word may be truncated form of the original\n",
    "* Root words generated may not have meaning"
   ]
  },
  {
   "cell_type": "code",
   "execution_count": 10,
   "metadata": {},
   "outputs": [
    {
     "data": {
      "text/plain": [
       "0    thi is the nlp task articl written by ayub kha...\n",
       "1    in thi articl i”ll be explain variou data-clea...\n",
       "2                     so stay tune for further more &&\n",
       "3      nah i don't think he goe to usf, he live around\n",
       "Name: text, dtype: object"
      ]
     },
     "execution_count": 10,
     "metadata": {},
     "output_type": "execute_result"
    }
   ],
   "source": [
    "st = PorterStemmer()\n",
    "df['text'].apply(lambda x:\" \".join([st.stem(word) for word in x.split()]))"
   ]
  },
  {
   "cell_type": "markdown",
   "metadata": {},
   "source": [
    "## Lemmatization\n",
    "\n",
    "* Convert words into their root word using vocabulary mapping\n",
    "* Root words generated are themselves words and have meaning\n",
    "* Slower than stemming"
   ]
  },
  {
   "cell_type": "code",
   "execution_count": 16,
   "metadata": {},
   "outputs": [
    {
     "name": "stdout",
     "output_type": "stream",
     "text": [
      "Lemmatization of 'played'  ---> 'play'\n"
     ]
    }
   ],
   "source": [
    "# Single word example\n",
    "w = Word(\"played\")\n",
    "\n",
    "# Pass in WordNet part of speech (verb)\n",
    "wl = w.lemmatize(\"v\")  \n",
    "\n",
    "# Lemmatized version\n",
    "print(f\"Lemmatization of '{w}'  ---> '{wl}'\")"
   ]
  },
  {
   "cell_type": "code",
   "execution_count": null,
   "metadata": {},
   "outputs": [],
   "source": [
    "# Lemmatization of dataset\n",
    "df['processed'].apply(lambda x: \" \".join([Word(word).lemmatize() for word in x.split()]))"
   ]
  }
 ],
 "metadata": {
  "kernelspec": {
   "display_name": "Python 3.8.13 ('py38_nlp')",
   "language": "python",
   "name": "python3"
  },
  "language_info": {
   "codemirror_mode": {
    "name": "ipython",
    "version": 3
   },
   "file_extension": ".py",
   "mimetype": "text/x-python",
   "name": "python",
   "nbconvert_exporter": "python",
   "pygments_lexer": "ipython3",
   "version": "3.8.13"
  },
  "orig_nbformat": 4,
  "vscode": {
   "interpreter": {
    "hash": "4d71e08b94de827530a4ff8127ee1f68f1c262136c34d25d2205ffeb4e79a510"
   }
  }
 },
 "nbformat": 4,
 "nbformat_minor": 2
}
